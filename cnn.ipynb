{
 "cells": [
  {
   "cell_type": "code",
   "execution_count": 41,
   "metadata": {},
   "outputs": [],
   "source": [
    "import os\n",
    "import numpy as np\n",
    "import librosa\n",
    "from sklearn.model_selection import train_test_split\n",
    "from sklearn.linear_model import LogisticRegression\n",
    "from sklearn.metrics import accuracy_score\n",
    "import matplotlib.pyplot as plt\n",
    "import pandas as pd\n",
    "from sklearn import linear_model"
   ]
  },
  {
   "cell_type": "code",
   "execution_count": 42,
   "metadata": {},
   "outputs": [
    {
     "name": "stdout",
     "output_type": "stream",
     "text": [
      "MFCC Features: [-335.88632     91.498024   -24.456554    15.036045     6.246258\n",
      "    3.868974    -2.1248338  -10.607402   -10.757667    -1.9641104\n",
      "   -8.978896     8.84592      0.787184 ]\n"
     ]
    }
   ],
   "source": [
    "def extract_mfcc(file_path):\n",
    "    # Дууны файлыг унших\n",
    "    y, sr = librosa.load(file_path, sr=None)\n",
    "    \n",
    "    # MFCC-г гаргаж авах\n",
    "    mfcc = librosa.feature.mfcc(y=y, sr=sr, n_mfcc=13)  # 13 MFCC шинж авах\n",
    "    mfcc_mean = np.mean(mfcc.T, axis=0)  # Дундажлаад, онцлог болгон хадгалах\n",
    "    \n",
    "    return mfcc_mean\n",
    "\n",
    "# Жишээ файлын зам\n",
    "file_path = 'C:/Users/Acer/OneDrive/Desktop/UrbanSound8k/dx_cup/DXCUP/data/Ondorhaan 2.wav'\n",
    "mfcc_features = extract_mfcc(file_path)\n",
    "\n",
    "print(\"MFCC Features:\", mfcc_features)"
   ]
  },
  {
   "cell_type": "code",
   "execution_count": 43,
   "metadata": {},
   "outputs": [
    {
     "name": "stdout",
     "output_type": "stream",
     "text": [
      "Spectral Contrast Features: [15.85487965  9.82125981 13.14154069 14.3605117  16.8704314  20.25621103\n",
      " 37.03299586]\n"
     ]
    }
   ],
   "source": [
    "def extract_spectral_contrast(file_path):\n",
    "    y, sr = librosa.load(file_path, sr=None)\n",
    "    \n",
    "    # Spectral Contrast онцлог гаргаж авах\n",
    "    spectral_contrast = librosa.feature.spectral_contrast(y=y, sr=sr)\n",
    "    spectral_contrast_mean = np.mean(spectral_contrast.T, axis=0)  # Дундажлаад хадгалах\n",
    "    \n",
    "    return spectral_contrast_mean\n",
    "\n",
    "spectral_contrast_features = extract_spectral_contrast(file_path)\n",
    "print(\"Spectral Contrast Features:\", spectral_contrast_features)\n"
   ]
  },
  {
   "cell_type": "code",
   "execution_count": 44,
   "metadata": {},
   "outputs": [
    {
     "name": "stdout",
     "output_type": "stream",
     "text": [
      "Chroma Features: [0.41869605 0.4472138  0.4450555  0.42712587 0.42234325 0.47550958\n",
      " 0.49347407 0.5271733  0.546242   0.51172346 0.43266034 0.39682218]\n"
     ]
    }
   ],
   "source": [
    "def extract_chroma(file_path):\n",
    "    y, sr = librosa.load(file_path, sr=None)\n",
    "    \n",
    "    # Chroma онцлог гаргаж авах\n",
    "    chroma = librosa.feature.chroma_stft(y=y, sr=sr)\n",
    "    chroma_mean = np.mean(chroma.T, axis=0)  # Дундажлаад хадгалах\n",
    "    \n",
    "    return chroma_mean\n",
    "\n",
    "chroma_features = extract_chroma(file_path)\n",
    "print(\"Chroma Features:\", chroma_features)\n"
   ]
  },
  {
   "cell_type": "code",
   "execution_count": 45,
   "metadata": {},
   "outputs": [
    {
     "name": "stdout",
     "output_type": "stream",
     "text": [
      "Combined Features: [-335.88632202   91.49802399  -24.45655441   15.03604507    6.24625778\n",
      "    3.86897397   -2.12483382  -10.60740185  -10.75766659   -1.96411037\n",
      "   -8.97889614    8.84591961    0.787184      0.41869605    0.4472138\n",
      "    0.44505551    0.42712587    0.42234325    0.47550958    0.49347407\n",
      "    0.52717328    0.546242      0.51172346    0.43266034    0.39682218\n",
      "   15.85487965    9.82125981   13.14154069   14.3605117    16.8704314\n",
      "   20.25621103   37.03299586]\n"
     ]
    }
   ],
   "source": [
    "def extract_features(file_path):\n",
    "    mfcc_features = extract_mfcc(file_path)\n",
    "    chroma_features = extract_chroma(file_path)\n",
    "    spectral_contrast_features = extract_spectral_contrast(file_path)\n",
    "    \n",
    "    # Бүгдийг нэгтгэх\n",
    "    features = np.hstack((mfcc_features, chroma_features, spectral_contrast_features))\n",
    "    return features\n",
    "\n",
    "# Онцлогийг гаргаж авах\n",
    "all_features = extract_features(file_path)\n",
    "print(\"Combined Features:\", all_features)\n"
   ]
  },
  {
   "cell_type": "code",
   "execution_count": null,
   "metadata": {},
   "outputs": [
    {
     "ename": "FileNotFoundError",
     "evalue": "[WinError 3] The system cannot find the path specified: 'dx_cup/DXCUP/data'",
     "output_type": "error",
     "traceback": [
      "\u001b[1;31m---------------------------------------------------------------------------\u001b[0m",
      "\u001b[1;31mFileNotFoundError\u001b[0m                         Traceback (most recent call last)",
      "Cell \u001b[1;32mIn[48], line 24\u001b[0m\n\u001b[0;32m     21\u001b[0m data \u001b[38;5;241m=\u001b[39m []  \u001b[38;5;66;03m# Дата массив\u001b[39;00m\n\u001b[0;32m     23\u001b[0m \u001b[38;5;66;03m# Дууны өгөгдлийг боловсруулж, онцлог гаргаж авах\u001b[39;00m\n\u001b[1;32m---> 24\u001b[0m \u001b[38;5;28;01mfor\u001b[39;00m filename \u001b[38;5;129;01min\u001b[39;00m \u001b[43mos\u001b[49m\u001b[38;5;241;43m.\u001b[39;49m\u001b[43mlistdir\u001b[49m\u001b[43m(\u001b[49m\u001b[43mdata_dir\u001b[49m\u001b[43m)\u001b[49m:\n\u001b[0;32m     25\u001b[0m     \u001b[38;5;28;01mif\u001b[39;00m filename\u001b[38;5;241m.\u001b[39mendswith(\u001b[38;5;124m'\u001b[39m\u001b[38;5;124m.wav\u001b[39m\u001b[38;5;124m'\u001b[39m):\n\u001b[0;32m     26\u001b[0m         audio_path \u001b[38;5;241m=\u001b[39m os\u001b[38;5;241m.\u001b[39mpath\u001b[38;5;241m.\u001b[39mjoin(data_dir, filename)\n",
      "\u001b[1;31mFileNotFoundError\u001b[0m: [WinError 3] The system cannot find the path specified: 'dx_cup/DXCUP/data'"
     ]
    }
   ],
   "source": [
    "def extract_features(file_path):\n",
    "    # MFCC\n",
    "    y, sr = librosa.load(file_path, sr=None)\n",
    "    mfcc = librosa.feature.mfcc(y=y, sr=sr, n_mfcc=13)\n",
    "    mfcc_mean = np.mean(mfcc.T, axis=0)\n",
    "\n",
    "    # Chroma\n",
    "    chroma = librosa.feature.chroma_stft(y=y, sr=sr)\n",
    "    chroma_mean = np.mean(chroma.T, axis=0)\n",
    "\n",
    "    # Spectral Contrast\n",
    "    spectral_contrast = librosa.feature.spectral_contrast(y=y, sr=sr)\n",
    "    spectral_contrast_mean = np.mean(spectral_contrast.T, axis=0)\n",
    "\n",
    "    # Бүгдийг нэгтгэх\n",
    "    features = np.hstack((mfcc_mean, chroma_mean, spectral_contrast_mean))\n",
    "    return features\n",
    "\n",
    "# Дууны өгөгдлийн директори\n",
    "data_dir = 'DXCUP/data'\n",
    "data = []  # Дата массив\n",
    "\n",
    "# Дууны өгөгдлийг боловсруулж, онцлог гаргаж авах\n",
    "for filename in os.listdir(data_dir):\n",
    "    if filename.endswith('.wav'):\n",
    "        audio_path = os.path.join(data_dir, filename)\n",
    "        features = extract_features(audio_path)\n",
    "\n",
    "        # Файлын нэрийн сүүлчийн тоог шалгах\n",
    "        file_number = filename.split('.')[0]  # .wav-г хасаж, файлын нэрийг авна\n",
    "        if file_number[-1].isdigit() and int(file_number[-1]) % 2 == 0:  # Тэгш тоо шалгах\n",
    "            label ='cold' # \"ханиад\"\n",
    "        else:\n",
    "            label = 'breath'  # амьсгал\n",
    "\n",
    "        # Файлын нэр, шошго, онцлогийг хадгалах\n",
    "        data.append([filename, label] + features.tolist())\n",
    "\n",
    "# CSV файлд хадгалах\n",
    "columns = ['filename', 'label'] + [f'mfcc_{i+1}' for i in range(13)] + \\\n",
    "          [f'chroma_{i+1}' for i in range(12)] + \\\n",
    "          [f'spectral_contrast_{i+1}' for i in range(7)]  # 7 нь spectral contrast онцлогийн тоо\n",
    "\n",
    "df = pd.DataFrame(data, columns=columns)\n",
    "df.to_csv('Sound.csv', index=False)  # CSV файл руу хадгалах\n",
    "\n",
    "print(\"Онцлог шинж чанарууд болон шошго CSV файлд хадгалагдлаа.\")"
   ]
  },
  {
   "cell_type": "code",
   "execution_count": 47,
   "metadata": {},
   "outputs": [
    {
     "name": "stdout",
     "output_type": "stream",
     "text": [
      "Загварын үнэн зөвийн түвшин: 100.00%\n"
     ]
    }
   ],
   "source": [
    "df = pd.read_csv('Sound.csv')\n",
    "\n",
    "# Онцлог шинж чанар (features) болон шошго (labels) ялгах\n",
    "X = df.drop(columns=['filename', 'label'])  # Онцлог шинж чанарууд\n",
    "y = df['label']  # Шошго\n",
    "\n",
    "# Сургалт, тестийн өгөгдөл хуваах\n",
    "X_train, X_test, y_train, y_test = train_test_split(X, y, test_size=0.3, random_state=42)\n",
    "\n",
    "# Логистик Регрессийн загвар үүсгэх\n",
    "model = LogisticRegression(max_iter=1000)  # max_iter нь алгоритмийг хэт удаан ажиллуулахгүй байх\n",
    "\n",
    "# Загварыг сургалтанд оруулах\n",
    "model.fit(X_train, y_train)\n",
    "\n",
    "# Загвараа шалгах\n",
    "y_pred = model.predict(X_test)\n",
    "accuracy = accuracy_score(y_test, y_pred)\n",
    "\n",
    "print(f\"Загварын үнэн зөвийн түвшин: {accuracy * 100:.2f}%\")"
   ]
  }
 ],
 "metadata": {
  "kernelspec": {
   "display_name": "Python 3",
   "language": "python",
   "name": "python3"
  },
  "language_info": {
   "codemirror_mode": {
    "name": "ipython",
    "version": 3
   },
   "file_extension": ".py",
   "mimetype": "text/x-python",
   "name": "python",
   "nbconvert_exporter": "python",
   "pygments_lexer": "ipython3",
   "version": "3.12.2"
  }
 },
 "nbformat": 4,
 "nbformat_minor": 2
}
